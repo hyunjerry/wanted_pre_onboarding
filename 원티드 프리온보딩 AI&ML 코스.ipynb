{
 "cells": [
  {
   "cell_type": "code",
   "execution_count": 1,
   "metadata": {},
   "outputs": [],
   "source": [
    "#1. Tokenizer 생성하기\n",
    "import re\n",
    "class Tokenizer():\n",
    "    def __init__(self):\n",
    "        self.word_dict = {'oov': 0}\n",
    "        self.fit_checker = False\n",
    "  \n",
    "    def preprocessing(self, sequences):\n",
    "        result = []\n",
    "\n",
    "        for i in sequences:\n",
    "            i = re.sub(r'[^\\w\\s]','',i).lower().split()\n",
    "            result.append(i)\n",
    "\n",
    "        return result\n",
    "  \n",
    "    def fit(self, sequences):\n",
    "        self.fit_checker = False\n",
    "        tokens = self.preprocessing(sequences)\n",
    "\n",
    "        #중복 element제거 및 일반 list형식으로 변환\n",
    "        wordlist=list(dict.fromkeys(sum(tokens,[])))\n",
    "\n",
    "        index=1\n",
    "        for j in wordlist:\n",
    "            self.word_dict[j]=index\n",
    "            index+=1\n",
    "\n",
    "        self.fit_checker = True\n",
    "        print(self.word_dict)\n",
    "  \n",
    "    def transform(self, sequences):\n",
    "        result = []\n",
    "        tokens = self.preprocessing(sequences)\n",
    "        if self.fit_checker:\n",
    "            result = []\n",
    "            for i in range(len(tokens)):\n",
    "                temp=[]\n",
    "                for j in tokens[i]:\n",
    "                    temp.append(self.word_dict[j])\n",
    "                result.append(temp)\n",
    "\n",
    "            return result\n",
    "        else:\n",
    "            raise Exception(\"Tokenizer instance is not fitted yet.\")\n",
    "      \n",
    "    def fit_transform(self, sequences):\n",
    "        self.fit(sequences)\n",
    "        result = self.transform(sequences)\n",
    "        return result"
   ]
  },
  {
   "cell_type": "code",
   "execution_count": 2,
   "metadata": {},
   "outputs": [
    {
     "name": "stdout",
     "output_type": "stream",
     "text": [
      "[['i', 'go', 'to', 'school'], ['i', 'like', 'pizza']]\n"
     ]
    }
   ],
   "source": [
    "### 1-1\n",
    "import re\n",
    "sentences =  ['I go to school.', 'I LIKE pizza!']\n",
    "clean_sentences=[]\n",
    "for i in sentences:\n",
    "    i = re.sub(r'[^\\w\\s]','',i).lower().split()\n",
    "    clean_sentences.append(i)\n",
    "    \n",
    "print(clean_sentences)\n"
   ]
  },
  {
   "cell_type": "code",
   "execution_count": 3,
   "metadata": {},
   "outputs": [
    {
     "name": "stdout",
     "output_type": "stream",
     "text": [
      "{'oov': 0, 'i': 1, 'go': 2, 'to': 3, 'school': 4, 'like': 5, 'pizza': 6}\n"
     ]
    }
   ],
   "source": [
    "### 1-2\n",
    "word_dict = {'oov': 0}\n",
    "\n",
    "index=1\n",
    "wordlist=list(dict.fromkeys(sum(clean_sentences,[])))\n",
    "for j in wordlist:\n",
    "    word_dict[j]=index\n",
    "    index+=1\n",
    "    \n",
    "print(word_dict)"
   ]
  },
  {
   "cell_type": "code",
   "execution_count": 4,
   "metadata": {},
   "outputs": [
    {
     "name": "stdout",
     "output_type": "stream",
     "text": [
      "{'oov': 0, 'i': 1, 'go': 2, 'to': 3, 'school': 4, 'like': 5, 'pizza': 6}\n",
      "[[1, 2, 3, 4], [1, 5, 6]]\n"
     ]
    }
   ],
   "source": [
    "### 1-3\n",
    "print(word_dict)\n",
    "final = []\n",
    "\n",
    "for i in range(len(clean_sentences)):\n",
    "    temp=[]\n",
    "    for j in clean_sentences[i]:\n",
    "        temp.append(word_dict[j])\n",
    "    final.append(temp)\n",
    "\n",
    "print(final)"
   ]
  },
  {
   "cell_type": "code",
   "execution_count": 5,
   "metadata": {},
   "outputs": [],
   "source": [
    "### 1 Test Case Set Up\n",
    "tok1 = Tokenizer()\n",
    "sample =  ['I go to school.', 'I LIKE pizza!', 'Do I LiKe School?']"
   ]
  },
  {
   "cell_type": "code",
   "execution_count": 6,
   "metadata": {
    "scrolled": true
   },
   "outputs": [
    {
     "data": {
      "text/plain": [
       "[['i', 'go', 'to', 'school'],\n",
       " ['i', 'like', 'pizza'],\n",
       " ['do', 'i', 'like', 'school']]"
      ]
     },
     "execution_count": 6,
     "metadata": {},
     "output_type": "execute_result"
    }
   ],
   "source": [
    "### 1-1 Test Case\n",
    "tok1.preprocessing(sample)"
   ]
  },
  {
   "cell_type": "code",
   "execution_count": 7,
   "metadata": {},
   "outputs": [
    {
     "name": "stdout",
     "output_type": "stream",
     "text": [
      "{'oov': 0, 'i': 1, 'go': 2, 'to': 3, 'school': 4, 'like': 5, 'pizza': 6, 'do': 7}\n"
     ]
    }
   ],
   "source": [
    "### 1-2 Test Case\n",
    "tok1.fit(sample)"
   ]
  },
  {
   "cell_type": "code",
   "execution_count": 8,
   "metadata": {},
   "outputs": [
    {
     "data": {
      "text/plain": [
       "[[1, 2, 3, 4], [1, 5, 6], [7, 1, 5, 4]]"
      ]
     },
     "execution_count": 8,
     "metadata": {},
     "output_type": "execute_result"
    }
   ],
   "source": [
    "### 1-3 Test Case\n",
    "tok1.transform(sample)"
   ]
  },
  {
   "cell_type": "code",
   "execution_count": 9,
   "metadata": {
    "scrolled": false
   },
   "outputs": [
    {
     "name": "stdout",
     "output_type": "stream",
     "text": [
      "{'oov': 0, 'i': 1, 'go': 2, 'to': 3, 'school': 4, 'like': 5, 'pizza': 6, 'do': 7}\n"
     ]
    },
    {
     "data": {
      "text/plain": [
       "[[1, 2, 3, 4], [1, 5, 6], [7, 1, 5, 4]]"
      ]
     },
     "execution_count": 9,
     "metadata": {},
     "output_type": "execute_result"
    }
   ],
   "source": [
    "tok1.fit_transform(sample)"
   ]
  },
  {
   "cell_type": "code",
   "execution_count": null,
   "metadata": {},
   "outputs": [],
   "source": []
  },
  {
   "cell_type": "code",
   "execution_count": 10,
   "metadata": {},
   "outputs": [],
   "source": [
    "#2. TfidfVectorizer 생성하기\n",
    "import math\n",
    "import numpy as np\n",
    "class TfidfVectorizer:\n",
    "    def __init__(self, tokenizer):\n",
    "        self.tokenizer = tokenizer\n",
    "        self.fit_checker = False\n",
    "  \n",
    "    def fit(self, sequences):\n",
    "        tokenized = self.tokenizer.fit_transform(sequences)\n",
    "        n = len(tokenized) #입력된 문장개수\n",
    "        idf = []\n",
    "        totwords = len(dict.fromkeys(sum(tokenized,[]))) #단어의 총 종류수(중복 무시)\n",
    "\n",
    "        for i in range(0,totwords+1): # i = 전체 단어의 value (set을 사용해서 한문장에서 단어 중복시 1개만 남기고 제거)\n",
    "            num_of_sen=0 # 해당 단어가 등장하는 문장수\n",
    "            for j in tokenized: # j = 각 문장별 단어들의 key\n",
    "                #list(set(i))\n",
    "                if i in j:\n",
    "                    num_of_sen+=1\n",
    "            idf.append(math.log(n/(1+num_of_sen)))\n",
    "            \n",
    "        self.fit_checker = True\n",
    "        return(idf)\n",
    "\n",
    "\n",
    "    def transform(self, sequences):\n",
    "        if self.fit_checker:\n",
    "            tokenized = self.tokenizer.transform(sequences)\n",
    "            n = len(tokenized) #입력된 문장개수\n",
    "            totwords = len(dict.fromkeys(sum(tokenized,[]))) #단어의 총 종류수(중복 무시)\n",
    "            tfidf = []\n",
    "\n",
    "            for i in tokenized: # i = 각 문장\n",
    "                temp=[0]*(totwords+1)\n",
    "                for j in range(0,totwords+1): # j = 전체 단어의 value (set을 사용해서 한문장에서 단어 중복시 1개만 남기고 제거)\n",
    "                    temp[j] = i.count(j) # j번째 단어의 갯수 카운트 후 j번째 자리에 저장\n",
    "\n",
    "                tfidf.append(np.multiply(temp,idf))\n",
    "            \n",
    "            self.tfidf_matrix = tfidf\n",
    "\n",
    "            return self.tfidf_matrix\n",
    "        else:\n",
    "            raise Exception(\"TfidfVectorizer instance is not fitted yet.\")\n",
    "\n",
    "    def fit_transform(self, sequences):\n",
    "        self.fit(sequences)\n",
    "        return self.transform(sequences)"
   ]
  },
  {
   "cell_type": "code",
   "execution_count": 11,
   "metadata": {},
   "outputs": [
    {
     "name": "stdout",
     "output_type": "stream",
     "text": [
      "[1.0986122886681098, -0.2876820724517809, 0.4054651081081644, 0.4054651081081644, 0.0, 0.0, 0.4054651081081644, 0.4054651081081644]\n"
     ]
    }
   ],
   "source": [
    "### 2-1\n",
    "\n",
    "tokenized = [[1, 2, 3, 4], [1, 5, 6], [7, 1, 5, 4]]\n",
    "\n",
    "n = len(tokenized) #입력된 문장개수\n",
    "idf = []\n",
    "totwords = len(dict.fromkeys(sum(tokenized,[]))) #단어의 총 종류수(중복 무시)\n",
    "\n",
    "for i in range(0,totwords+1): # i = 전체 단어의 value (set을 사용해서 한문장에서 단어 중복시 1개만 남기고 제거)\n",
    "    num_of_sen=0 # 해당 단어가 등장하는 문장수\n",
    "    for j in tokenized: # j = 각 문장별 단어들의 key\n",
    "        #list(set(i))\n",
    "        if i in j:\n",
    "            num_of_sen+=1\n",
    "    idf.append(math.log(n/(1+num_of_sen)))\n",
    "\n",
    "print(idf)"
   ]
  },
  {
   "cell_type": "code",
   "execution_count": 12,
   "metadata": {
    "scrolled": true
   },
   "outputs": [],
   "source": [
    "### 2-2\n",
    "import numpy as np\n",
    "tokenized = [[1, 2, 3, 4], [1, 5, 6], [7, 1, 5, 4]]\n",
    "\n",
    "n = len(tokenized) #입력된 문장개수\n",
    "totwords = len(dict.fromkeys(sum(tokenized,[]))) #단어의 총 종류수(중복 무시)\n",
    "tfidf = []\n",
    "\n",
    "for i in tokenized: # i = 각 문장\n",
    "    temp=[0]*(totwords+1)\n",
    "    for j in range(0,totwords+1): # j = 전체 단어의 value (set을 사용해서 한문장에서 단어 중복시 1개만 남기고 제거)\n",
    "        temp[j] = i.count(j) # j번째 단어의 갯수 카운트 후 j번째 자리에 저장\n",
    "\n",
    "    tfidf.append(np.multiply(temp,idf))\n",
    "    "
   ]
  },
  {
   "cell_type": "code",
   "execution_count": 13,
   "metadata": {},
   "outputs": [
    {
     "data": {
      "text/plain": [
       "array([2, 4, 6])"
      ]
     },
     "execution_count": 13,
     "metadata": {},
     "output_type": "execute_result"
    }
   ],
   "source": [
    "np.multiply([2,2,2],[1,2,3])"
   ]
  },
  {
   "cell_type": "code",
   "execution_count": null,
   "metadata": {},
   "outputs": [],
   "source": []
  },
  {
   "cell_type": "code",
   "execution_count": 14,
   "metadata": {
    "scrolled": true
   },
   "outputs": [
    {
     "name": "stdout",
     "output_type": "stream",
     "text": [
      "{'oov': 0, 'i': 1, 'go': 2, 'to': 3, 'school': 4, 'like': 5, 'pizza': 6, 'do': 7}\n"
     ]
    },
    {
     "data": {
      "text/plain": [
       "[1.0986122886681098,\n",
       " -0.2876820724517809,\n",
       " 0.4054651081081644,\n",
       " 0.4054651081081644,\n",
       " 0.0,\n",
       " 0.0,\n",
       " 0.4054651081081644,\n",
       " 0.4054651081081644]"
      ]
     },
     "execution_count": 14,
     "metadata": {},
     "output_type": "execute_result"
    }
   ],
   "source": [
    "### 2-1 Test Case\n",
    "import math\n",
    "tok1 = Tokenizer()\n",
    "tf1 = TfidfVectorizer(tok1)\n",
    "sample =  ['I go to school.', 'I LIKE pizza!', 'Do I LiKe School?']\n",
    "\n",
    "tf1.fit(sample) #[0, 3, 1, 1, 2, 2, 1, 1]\n"
   ]
  },
  {
   "cell_type": "code",
   "execution_count": 15,
   "metadata": {
    "scrolled": false
   },
   "outputs": [
    {
     "data": {
      "text/plain": [
       "[1.0986122886681098,\n",
       " -0.2876820724517809,\n",
       " 0.4054651081081644,\n",
       " 0.4054651081081644,\n",
       " 0.0,\n",
       " 0.0,\n",
       " 0.4054651081081644,\n",
       " 0.4054651081081644]"
      ]
     },
     "execution_count": 15,
     "metadata": {},
     "output_type": "execute_result"
    }
   ],
   "source": [
    "### 2-2 Test Case\n",
    "import numpy as np\n",
    "sample =  ['I go to school.', 'I LIKE pizza!', 'Do I LiKe School?']\n",
    "\n",
    "tf1.transform(sample)\n",
    "\n",
    "idf"
   ]
  },
  {
   "cell_type": "code",
   "execution_count": 16,
   "metadata": {},
   "outputs": [
    {
     "name": "stdout",
     "output_type": "stream",
     "text": [
      "[1.0986122886681098, -0.2876820724517809, 0.4054651081081644, 0.4054651081081644, 0.0, 0.0, 0.4054651081081644, 0.4054651081081644]\n"
     ]
    }
   ],
   "source": [
    "xx = [0,3,1,1,2,2,1,1]\n",
    "idf=[]\n",
    "for i in xx:\n",
    "    idf.append(math.log(3/(1+i)))\n",
    "print(idf)"
   ]
  },
  {
   "cell_type": "code",
   "execution_count": 17,
   "metadata": {},
   "outputs": [],
   "source": [
    "tf=[[0,1,1,1,1,0,0,0],[0,1,0,0,0,1,1,0],[0,1,0,0,1,1,0,1]]"
   ]
  },
  {
   "cell_type": "code",
   "execution_count": 18,
   "metadata": {},
   "outputs": [
    {
     "name": "stdout",
     "output_type": "stream",
     "text": [
      "[[ 0.         -0.28768207  0.40546511  0.40546511  0.          0.\n",
      "   0.          0.        ]\n",
      " [ 0.         -0.28768207  0.          0.          0.          0.\n",
      "   0.40546511  0.        ]\n",
      " [ 0.         -0.28768207  0.          0.          0.          0.\n",
      "   0.          0.40546511]]\n"
     ]
    }
   ],
   "source": [
    "print(np.multiply(idf,tf)) ## correct answer!!"
   ]
  }
 ],
 "metadata": {
  "kernelspec": {
   "display_name": "Python 3",
   "language": "python",
   "name": "python3"
  },
  "language_info": {
   "codemirror_mode": {
    "name": "ipython",
    "version": 3
   },
   "file_extension": ".py",
   "mimetype": "text/x-python",
   "name": "python",
   "nbconvert_exporter": "python",
   "pygments_lexer": "ipython3",
   "version": "3.7.1"
  }
 },
 "nbformat": 4,
 "nbformat_minor": 2
}
